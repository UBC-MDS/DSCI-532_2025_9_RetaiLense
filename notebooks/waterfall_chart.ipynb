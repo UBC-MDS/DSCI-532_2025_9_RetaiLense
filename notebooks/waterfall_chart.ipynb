{
 "cells": [
  {
   "cell_type": "code",
   "execution_count": 1,
   "id": "52de87d3-3564-412b-ac48-0c4a6f0f586e",
   "metadata": {},
   "outputs": [
    {
     "data": {
      "text/plain": [
       "DataTransformerRegistry.enable('vegafusion')"
      ]
     },
     "execution_count": 1,
     "metadata": {},
     "output_type": "execute_result"
    }
   ],
   "source": [
    "import pandas as pd\n",
    "import altair as alt\n",
    "alt.data_transformers.enable(\"vegafusion\")"
   ]
  },
  {
   "cell_type": "code",
   "execution_count": 2,
   "id": "578874f2-28d6-4330-8174-5b42e6e87b39",
   "metadata": {},
   "outputs": [],
   "source": [
    "#filtered_df = pd.read_csv('../data/processed/processed_data.csv')"
   ]
  },
  {
   "cell_type": "code",
   "execution_count": 3,
   "id": "478f872f-612e-4e50-9596-83a201eea378",
   "metadata": {},
   "outputs": [],
   "source": [
    "#df_no_uk = filtered_df[filtered_df['Country'] != 'United Kingdom']"
   ]
  },
  {
   "cell_type": "code",
   "execution_count": 4,
   "id": "31815327-1240-4a28-b1f4-03456060c66f",
   "metadata": {},
   "outputs": [],
   "source": [
    "#df_no_uk = filtered_df[filtered_df['Country'] != 'United Kingdom']\n",
    "#country_counts = df_no_uk['Country'].value_counts().reset_index()\n",
    "#country_counts.columns = ['Country', 'Count']\n",
    "#country_counts['Percentage'] = round((country_counts['Count'] / country_counts['Count'].sum()) * 100,0)\n",
    "#country_counts = country_counts.head(5)\n",
    "#country_counts.to_csv('../data/filtered/pie_chart_data.csv', index=False)\n",
    "#country_counts = pd.read_csv('../data/filtered/pie_chart_data.csv')\n",
    "#country_counts"
   ]
  },
  {
   "cell_type": "code",
   "execution_count": 5,
   "id": "c70b9570-6186-4452-925d-fcfa865ab18c",
   "metadata": {},
   "outputs": [],
   "source": [
    "#pie_chart = alt.Chart(country_counts).mark_arc().encode(\n",
    "#    theta=alt.Theta(field=\"Percentage\", type=\"quantitative\"),  # Use Percentage for the arc size\n",
    "#    color=alt.Color(field=\"Country\", type=\"nominal\", \n",
    "#                    scale=alt.Scale(scheme='pastel1')),  # Use a categorical color scheme\n",
    "#    tooltip=['Country', 'Percentage']  # Show Percentage in the tooltip\n",
    "#).properties(\n",
    "#    title=\"Top 5 Countries Outside of the UK\"\n",
    "#)\n",
    "#pie_chart"
   ]
  },
  {
   "cell_type": "code",
   "execution_count": 65,
   "id": "fc2b21db",
   "metadata": {},
   "outputs": [],
   "source": [
    "def plot_waterfall_chart(data):\n",
    "\n",
    "    # Compute Gross Revenue (sum of revenue where quantity > 0)\n",
    "    gross_revenue = data.loc[data['Quantity'] > 0, 'Revenue'].sum()\n",
    "\n",
    "    # Compute Refund (sum of revenue where quantity < 0)\n",
    "    refund = data.loc[data['Quantity'] < 0, 'Revenue'].sum()\n",
    "\n",
    "    # Compute Net Revenue (Gross Revenue + Refund)\n",
    "    net_revenue = gross_revenue + refund\n",
    "\n",
    "    # Create the final DataFrame\n",
    "    df = pd.DataFrame({\n",
    "        'Category': ['Gross Revenue', 'Refund', 'Net Revenue'],\n",
    "        'Value': [gross_revenue, refund, net_revenue]\n",
    "    })\n",
    "\n",
    "\n",
    "    # Define explicit category order\n",
    "    category_order = df['Category'].tolist()\n",
    "    \n",
    "    # Add an index column to enforce order\n",
    "    df['Index'] = range(len(df))  # Assign numerical order explicitly\n",
    "\n",
    "    # Convert Category column to categorical with correct order\n",
    "    df['Category'] = pd.Categorical(df['Category'], categories=category_order, ordered=True)\n",
    "\n",
    "    # Compute cumulative values properly\n",
    "    df['Start'] = df['Value'].cumsum().shift(1).fillna(0)\n",
    "    df['End'] = df['Start'] + df['Value']\n",
    "\n",
    "    # Force Net Revenue to start from zero\n",
    "    df.loc[df['Category'] == 'Net Revenue', 'Start'] = 0\n",
    "    df.loc[df['Category'] == 'Net Revenue', 'End'] = df['Value']\n",
    "\n",
    "    # Define colors\n",
    "    df['Color'] = df['Value'].apply(lambda x: 'Increase' if x > 0 else 'Decrease')\n",
    "\n",
    "    # Create a mapping of Index to Category labels\n",
    "    category_labels = {i: cat for i, cat in enumerate(df['Category'])}\n",
    "\n",
    "    # Create the waterfall chart\n",
    "    bars = alt.Chart(df).mark_bar().encode(\n",
    "        x=alt.X('Index:O', title='Category', sort=list(df['Index']),  \n",
    "                axis=alt.Axis(labelExpr=f\"datum.value == 0 ? '{category_labels[0]}' : \" +\n",
    "                                       f\"datum.value == 1 ? '{category_labels[1]}' : \" +\n",
    "                                       f\"datum.value == 2 ? '{category_labels[2]}' : ''\",\n",
    "                              labelAngle=-45)),  # Replaces 0,1,2 with actual labels\n",
    "        y=alt.Y('Start:Q', title='Revenue'),\n",
    "        y2='End:Q',\n",
    "        color=alt.Color('Color:N', scale=alt.Scale(domain=['Increase', 'Decrease'], range=['green', 'red']), legend=None),\n",
    "        tooltip=['Category', 'Value']\n",
    "    )\n",
    "\n",
    "    # Add text labels\n",
    "    text = alt.Chart(df).mark_text(dy=-10, size=12).encode(\n",
    "        x='Index:O',\n",
    "        y='End:Q',\n",
    "        text=alt.Text('Value:Q', format=',.0f')\n",
    "    )\n",
    "\n",
    "    # Combine bars and labels\n",
    "    waterfall_chart = (bars + text).properties(width=600, height=400, title=\"Revenue Waterfall Chart\" )\n",
    "    \n",
    "    return waterfall_chart\n",
    "\n"
   ]
  },
  {
   "cell_type": "code",
   "execution_count": 66,
   "id": "b1de54d2-fe6b-4886-9d74-d816575ab651",
   "metadata": {},
   "outputs": [
    {
     "data": {
      "text/html": [
       "\n",
       "<style>\n",
       "  #altair-viz-917d88a898b84a179ab2c27ccb26518d.vega-embed {\n",
       "    width: 100%;\n",
       "    display: flex;\n",
       "  }\n",
       "\n",
       "  #altair-viz-917d88a898b84a179ab2c27ccb26518d.vega-embed details,\n",
       "  #altair-viz-917d88a898b84a179ab2c27ccb26518d.vega-embed details summary {\n",
       "    position: relative;\n",
       "  }\n",
       "</style>\n",
       "<div id=\"altair-viz-917d88a898b84a179ab2c27ccb26518d\"></div>\n",
       "<script type=\"text/javascript\">\n",
       "  var VEGA_DEBUG = (typeof VEGA_DEBUG == \"undefined\") ? {} : VEGA_DEBUG;\n",
       "  (function(spec, embedOpt){\n",
       "    let outputDiv = document.currentScript.previousElementSibling;\n",
       "    if (outputDiv.id !== \"altair-viz-917d88a898b84a179ab2c27ccb26518d\") {\n",
       "      outputDiv = document.getElementById(\"altair-viz-917d88a898b84a179ab2c27ccb26518d\");\n",
       "    }\n",
       "    const paths = {\n",
       "      \"vega\": \"https://cdn.jsdelivr.net/npm/vega@5?noext\",\n",
       "      \"vega-lib\": \"https://cdn.jsdelivr.net/npm/vega-lib?noext\",\n",
       "      \"vega-lite\": \"https://cdn.jsdelivr.net/npm/vega-lite@5.16.3?noext\",\n",
       "      \"vega-embed\": \"https://cdn.jsdelivr.net/npm/vega-embed@6?noext\",\n",
       "    };\n",
       "\n",
       "    function maybeLoadScript(lib, version) {\n",
       "      var key = `${lib.replace(\"-\", \"\")}_version`;\n",
       "      return (VEGA_DEBUG[key] == version) ?\n",
       "        Promise.resolve(paths[lib]) :\n",
       "        new Promise(function(resolve, reject) {\n",
       "          var s = document.createElement('script');\n",
       "          document.getElementsByTagName(\"head\")[0].appendChild(s);\n",
       "          s.async = true;\n",
       "          s.onload = () => {\n",
       "            VEGA_DEBUG[key] = version;\n",
       "            return resolve(paths[lib]);\n",
       "          };\n",
       "          s.onerror = () => reject(`Error loading script: ${paths[lib]}`);\n",
       "          s.src = paths[lib];\n",
       "        });\n",
       "    }\n",
       "\n",
       "    function showError(err) {\n",
       "      outputDiv.innerHTML = `<div class=\"error\" style=\"color:red;\">${err}</div>`;\n",
       "      throw err;\n",
       "    }\n",
       "\n",
       "    function displayChart(vegaEmbed) {\n",
       "      vegaEmbed(outputDiv, spec, embedOpt)\n",
       "        .catch(err => showError(`Javascript Error: ${err.message}<br>This usually means there's a typo in your chart specification. See the javascript console for the full traceback.`));\n",
       "    }\n",
       "\n",
       "    if(typeof define === \"function\" && define.amd) {\n",
       "      requirejs.config({paths});\n",
       "      require([\"vega-embed\"], displayChart, err => showError(`Error loading script: ${err.message}`));\n",
       "    } else {\n",
       "      maybeLoadScript(\"vega\", \"5\")\n",
       "        .then(() => maybeLoadScript(\"vega-lite\", \"5.16.3\"))\n",
       "        .then(() => maybeLoadScript(\"vega-embed\", \"6\"))\n",
       "        .catch(showError)\n",
       "        .then(() => displayChart(vegaEmbed));\n",
       "    }\n",
       "  })({\"$schema\": \"https://vega.github.io/schema/vega/v5.json\", \"data\": [{\"name\": \"source_0\"}, {\"name\": \"data_0\"}, {\"name\": \"data_1\", \"values\": [{\"Category\": \"Gross Revenue\", \"Color\": \"Increase\", \"End\": 10644560.424, \"Index\": 0, \"Start\": 0.0, \"Value\": 10644560.424}, {\"Category\": \"Refund\", \"Color\": \"Decrease\", \"End\": 9747747.934, \"Index\": 1, \"Start\": 10644560.424, \"Value\": -896812.49}, {\"Category\": \"Net Revenue\", \"Color\": \"Increase\", \"End\": 9747747.934, \"Index\": 2, \"Start\": 0.0, \"Value\": 9747747.934}]}, {\"name\": \"data_2\", \"values\": [{\"End\": 10644560.424, \"Index\": 0, \"Value\": 10644560.424}, {\"End\": 9747747.934, \"Index\": 1, \"Value\": -896812.49}, {\"End\": 9747747.934, \"Index\": 2, \"Value\": 9747747.934}]}, {\"name\": \"data_0_x_domain_Index_0\", \"values\": [{\"Index\": 0}, {\"Index\": 1}, {\"Index\": 2}]}, {\"name\": \"data_2_x_domain_Index_1\", \"values\": [{\"Index\": 0}, {\"Index\": 1}, {\"Index\": 2}]}], \"marks\": [{\"type\": \"rect\", \"name\": \"layer_0_marks\", \"from\": {\"data\": \"data_1\"}, \"encode\": {\"update\": {\"y\": {\"field\": \"Start\", \"scale\": \"y\"}, \"tooltip\": {\"signal\": \"{\\\"Category\\\": isValid(datum[\\\"Category\\\"]) ? datum[\\\"Category\\\"] : \\\"\\\"+datum[\\\"Category\\\"], \\\"Value\\\": format(datum[\\\"Value\\\"], \\\"\\\")}\"}, \"x\": {\"field\": \"Index\", \"scale\": \"x\"}, \"y2\": {\"field\": \"End\", \"scale\": \"y\"}, \"fill\": {\"field\": \"Color\", \"scale\": \"color\"}, \"width\": {\"signal\": \"max(0.25, bandwidth('x'))\"}}}, \"style\": [\"bar\"]}, {\"type\": \"text\", \"name\": \"layer_1_marks\", \"from\": {\"data\": \"data_2\"}, \"encode\": {\"update\": {\"align\": {\"value\": \"center\"}, \"text\": {\"signal\": \"format(datum[\\\"Value\\\"], \\\",.0f\\\")\"}, \"dy\": {\"value\": -10}, \"fontSize\": {\"value\": 12}, \"x\": {\"field\": \"Index\", \"scale\": \"x\", \"band\": 0.5}, \"baseline\": {\"value\": \"middle\"}, \"fill\": {\"value\": \"black\"}, \"y\": {\"field\": \"End\", \"scale\": \"y\"}}}, \"style\": [\"text\"]}], \"scales\": [{\"name\": \"x\", \"type\": \"band\", \"domain\": {\"fields\": [{\"data\": \"data_0_x_domain_Index_0\", \"field\": \"Index\"}, {\"data\": \"data_2_x_domain_Index_1\", \"field\": \"Index\"}], \"sort\": true}, \"range\": [0, {\"signal\": \"width\"}], \"paddingInner\": 0.1, \"paddingOuter\": 0.05}, {\"name\": \"y\", \"type\": \"linear\", \"domain\": {\"fields\": [{\"data\": \"data_1\", \"field\": \"Start\"}, {\"data\": \"data_1\", \"field\": \"End\"}, {\"data\": \"data_2\", \"field\": \"End\"}]}, \"range\": [{\"signal\": \"height\"}, 0], \"zero\": true, \"nice\": true}, {\"name\": \"color\", \"type\": \"ordinal\", \"domain\": [\"Increase\", \"Decrease\"], \"range\": [\"green\", \"red\"]}], \"axes\": [{\"scale\": \"y\", \"minExtent\": 0, \"ticks\": false, \"domain\": false, \"aria\": false, \"zindex\": 0, \"orient\": \"left\", \"grid\": true, \"maxExtent\": 0, \"gridScale\": \"x\", \"labels\": false, \"tickCount\": {\"signal\": \"ceil(height/40)\"}}, {\"scale\": \"x\", \"title\": \"Category\", \"orient\": \"bottom\", \"zindex\": 0, \"labelAngle\": 315, \"labelBaseline\": \"top\", \"labelAlign\": \"right\", \"encode\": {\"labels\": {\"update\": {\"text\": {\"signal\": \"datum.value == 0 ? 'Gross Revenue' : datum.value == 1 ? 'Refund' : datum.value == 2 ? 'Net Revenue' : ''\"}}}}, \"grid\": false}, {\"scale\": \"y\", \"title\": \"Revenue\", \"tickCount\": {\"signal\": \"ceil(height/40)\"}, \"labelOverlap\": true, \"zindex\": 0, \"orient\": \"left\", \"grid\": false}], \"title\": {\"text\": \"Revenue Waterfall Chart\", \"frame\": \"group\"}, \"padding\": 5, \"width\": 600, \"style\": \"cell\", \"background\": \"white\", \"height\": 400}, {\"mode\": \"vega\"});\n",
       "</script>"
      ],
      "text/plain": [
       "alt.LayerChart(...)"
      ]
     },
     "execution_count": 66,
     "metadata": {},
     "output_type": "execute_result"
    }
   ],
   "source": [
    "data = pd.read_csv('../data/processed/processed_data.csv')\n",
    "plot_waterfall_chart(data)\n"
   ]
  }
 ],
 "metadata": {
  "kernelspec": {
   "display_name": "retailense",
   "language": "python",
   "name": "python3"
  },
  "language_info": {
   "codemirror_mode": {
    "name": "ipython",
    "version": 3
   },
   "file_extension": ".py",
   "mimetype": "text/x-python",
   "name": "python",
   "nbconvert_exporter": "python",
   "pygments_lexer": "ipython3",
   "version": "3.9.19"
  }
 },
 "nbformat": 4,
 "nbformat_minor": 5
}
