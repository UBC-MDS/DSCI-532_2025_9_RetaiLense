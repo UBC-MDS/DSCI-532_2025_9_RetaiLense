{
 "cells": [
  {
   "cell_type": "code",
   "execution_count": 9,
   "id": "b85162fc-e3b4-4c6a-a258-c35b0a676da8",
   "metadata": {},
   "outputs": [],
   "source": [
    "import pandas as pd"
   ]
  },
  {
   "cell_type": "code",
   "execution_count": 10,
   "id": "7a717233-1f09-49e9-99c1-5b7bc4fa283e",
   "metadata": {},
   "outputs": [
    {
     "data": {
      "text/html": [
       "<div>\n",
       "<style scoped>\n",
       "    .dataframe tbody tr th:only-of-type {\n",
       "        vertical-align: middle;\n",
       "    }\n",
       "\n",
       "    .dataframe tbody tr th {\n",
       "        vertical-align: top;\n",
       "    }\n",
       "\n",
       "    .dataframe thead th {\n",
       "        text-align: right;\n",
       "    }\n",
       "</style>\n",
       "<table border=\"1\" class=\"dataframe\">\n",
       "  <thead>\n",
       "    <tr style=\"text-align: right;\">\n",
       "      <th></th>\n",
       "      <th>InvoiceNo</th>\n",
       "      <th>StockCode</th>\n",
       "      <th>Description</th>\n",
       "      <th>Quantity</th>\n",
       "      <th>InvoiceDate</th>\n",
       "      <th>UnitPrice</th>\n",
       "      <th>CustomerID</th>\n",
       "      <th>Country</th>\n",
       "      <th>Revenue</th>\n",
       "    </tr>\n",
       "  </thead>\n",
       "  <tbody>\n",
       "    <tr>\n",
       "      <th>0</th>\n",
       "      <td>536365</td>\n",
       "      <td>85123A</td>\n",
       "      <td>WHITE HANGING HEART T-LIGHT HOLDER</td>\n",
       "      <td>6</td>\n",
       "      <td>2010-12-01</td>\n",
       "      <td>2.55</td>\n",
       "      <td>17850.0</td>\n",
       "      <td>United Kingdom</td>\n",
       "      <td>15.30</td>\n",
       "    </tr>\n",
       "    <tr>\n",
       "      <th>1</th>\n",
       "      <td>536365</td>\n",
       "      <td>71053</td>\n",
       "      <td>WHITE METAL LANTERN</td>\n",
       "      <td>6</td>\n",
       "      <td>2010-12-01</td>\n",
       "      <td>3.39</td>\n",
       "      <td>17850.0</td>\n",
       "      <td>United Kingdom</td>\n",
       "      <td>20.34</td>\n",
       "    </tr>\n",
       "    <tr>\n",
       "      <th>2</th>\n",
       "      <td>536365</td>\n",
       "      <td>84406B</td>\n",
       "      <td>CREAM CUPID HEARTS COAT HANGER</td>\n",
       "      <td>8</td>\n",
       "      <td>2010-12-01</td>\n",
       "      <td>2.75</td>\n",
       "      <td>17850.0</td>\n",
       "      <td>United Kingdom</td>\n",
       "      <td>22.00</td>\n",
       "    </tr>\n",
       "    <tr>\n",
       "      <th>3</th>\n",
       "      <td>536365</td>\n",
       "      <td>84029G</td>\n",
       "      <td>KNITTED UNION FLAG HOT WATER BOTTLE</td>\n",
       "      <td>6</td>\n",
       "      <td>2010-12-01</td>\n",
       "      <td>3.39</td>\n",
       "      <td>17850.0</td>\n",
       "      <td>United Kingdom</td>\n",
       "      <td>20.34</td>\n",
       "    </tr>\n",
       "    <tr>\n",
       "      <th>4</th>\n",
       "      <td>536365</td>\n",
       "      <td>84029E</td>\n",
       "      <td>RED WOOLLY HOTTIE WHITE HEART.</td>\n",
       "      <td>6</td>\n",
       "      <td>2010-12-01</td>\n",
       "      <td>3.39</td>\n",
       "      <td>17850.0</td>\n",
       "      <td>United Kingdom</td>\n",
       "      <td>20.34</td>\n",
       "    </tr>\n",
       "  </tbody>\n",
       "</table>\n",
       "</div>"
      ],
      "text/plain": [
       "  InvoiceNo StockCode                          Description  Quantity  \\\n",
       "0    536365    85123A   WHITE HANGING HEART T-LIGHT HOLDER         6   \n",
       "1    536365     71053                  WHITE METAL LANTERN         6   \n",
       "2    536365    84406B       CREAM CUPID HEARTS COAT HANGER         8   \n",
       "3    536365    84029G  KNITTED UNION FLAG HOT WATER BOTTLE         6   \n",
       "4    536365    84029E       RED WOOLLY HOTTIE WHITE HEART.         6   \n",
       "\n",
       "  InvoiceDate  UnitPrice  CustomerID         Country  Revenue  \n",
       "0  2010-12-01       2.55     17850.0  United Kingdom    15.30  \n",
       "1  2010-12-01       3.39     17850.0  United Kingdom    20.34  \n",
       "2  2010-12-01       2.75     17850.0  United Kingdom    22.00  \n",
       "3  2010-12-01       3.39     17850.0  United Kingdom    20.34  \n",
       "4  2010-12-01       3.39     17850.0  United Kingdom    20.34  "
      ]
     },
     "execution_count": 10,
     "metadata": {},
     "output_type": "execute_result"
    }
   ],
   "source": [
    "df = pd.read_csv('../data/processed/processed_data.csv')\n",
    "df.head()"
   ]
  },
  {
   "cell_type": "code",
   "execution_count": 3,
   "id": "d92b2d5f-6d6a-4207-b3f1-25459c2ec137",
   "metadata": {},
   "outputs": [
    {
     "data": {
      "text/plain": [
       "4372"
      ]
     },
     "execution_count": 3,
     "metadata": {},
     "output_type": "execute_result"
    }
   ],
   "source": [
    "# Check how many total unique customer ID's there are\n",
    "df['CustomerID'].nunique()"
   ]
  },
  {
   "cell_type": "code",
   "execution_count": 12,
   "id": "99c7dac8-1eff-4e83-a447-de7acb99a9c1",
   "metadata": {},
   "outputs": [
    {
     "data": {
      "text/html": [
       "<div>\n",
       "<style scoped>\n",
       "    .dataframe tbody tr th:only-of-type {\n",
       "        vertical-align: middle;\n",
       "    }\n",
       "\n",
       "    .dataframe tbody tr th {\n",
       "        vertical-align: top;\n",
       "    }\n",
       "\n",
       "    .dataframe thead th {\n",
       "        text-align: right;\n",
       "    }\n",
       "</style>\n",
       "<table border=\"1\" class=\"dataframe\">\n",
       "  <thead>\n",
       "    <tr style=\"text-align: right;\">\n",
       "      <th></th>\n",
       "      <th>InvoiceNo</th>\n",
       "      <th>StockCode</th>\n",
       "      <th>Description</th>\n",
       "      <th>Quantity</th>\n",
       "      <th>InvoiceDate</th>\n",
       "      <th>UnitPrice</th>\n",
       "      <th>CustomerID</th>\n",
       "      <th>Country</th>\n",
       "      <th>Revenue</th>\n",
       "    </tr>\n",
       "  </thead>\n",
       "  <tbody>\n",
       "    <tr>\n",
       "      <th>622</th>\n",
       "      <td>536414</td>\n",
       "      <td>22139</td>\n",
       "      <td>NaN</td>\n",
       "      <td>56</td>\n",
       "      <td>2010-12-01 11:52</td>\n",
       "      <td>0.00</td>\n",
       "      <td>NaN</td>\n",
       "      <td>United Kingdom</td>\n",
       "      <td>0.00</td>\n",
       "    </tr>\n",
       "    <tr>\n",
       "      <th>1443</th>\n",
       "      <td>536544</td>\n",
       "      <td>21773</td>\n",
       "      <td>DECORATIVE ROSE BATHROOM BOTTLE</td>\n",
       "      <td>1</td>\n",
       "      <td>2010-12-01 14:32</td>\n",
       "      <td>2.51</td>\n",
       "      <td>NaN</td>\n",
       "      <td>United Kingdom</td>\n",
       "      <td>2.51</td>\n",
       "    </tr>\n",
       "    <tr>\n",
       "      <th>1444</th>\n",
       "      <td>536544</td>\n",
       "      <td>21774</td>\n",
       "      <td>DECORATIVE CATS BATHROOM BOTTLE</td>\n",
       "      <td>2</td>\n",
       "      <td>2010-12-01 14:32</td>\n",
       "      <td>2.51</td>\n",
       "      <td>NaN</td>\n",
       "      <td>United Kingdom</td>\n",
       "      <td>5.02</td>\n",
       "    </tr>\n",
       "    <tr>\n",
       "      <th>1445</th>\n",
       "      <td>536544</td>\n",
       "      <td>21786</td>\n",
       "      <td>POLKADOT RAIN HAT</td>\n",
       "      <td>4</td>\n",
       "      <td>2010-12-01 14:32</td>\n",
       "      <td>0.85</td>\n",
       "      <td>NaN</td>\n",
       "      <td>United Kingdom</td>\n",
       "      <td>3.40</td>\n",
       "    </tr>\n",
       "    <tr>\n",
       "      <th>1446</th>\n",
       "      <td>536544</td>\n",
       "      <td>21787</td>\n",
       "      <td>RAIN PONCHO RETROSPOT</td>\n",
       "      <td>2</td>\n",
       "      <td>2010-12-01 14:32</td>\n",
       "      <td>1.66</td>\n",
       "      <td>NaN</td>\n",
       "      <td>United Kingdom</td>\n",
       "      <td>3.32</td>\n",
       "    </tr>\n",
       "    <tr>\n",
       "      <th>...</th>\n",
       "      <td>...</td>\n",
       "      <td>...</td>\n",
       "      <td>...</td>\n",
       "      <td>...</td>\n",
       "      <td>...</td>\n",
       "      <td>...</td>\n",
       "      <td>...</td>\n",
       "      <td>...</td>\n",
       "      <td>...</td>\n",
       "    </tr>\n",
       "    <tr>\n",
       "      <th>541536</th>\n",
       "      <td>581498</td>\n",
       "      <td>85099B</td>\n",
       "      <td>JUMBO BAG RED RETROSPOT</td>\n",
       "      <td>5</td>\n",
       "      <td>2011-12-09 10:26</td>\n",
       "      <td>4.13</td>\n",
       "      <td>NaN</td>\n",
       "      <td>United Kingdom</td>\n",
       "      <td>20.65</td>\n",
       "    </tr>\n",
       "    <tr>\n",
       "      <th>541537</th>\n",
       "      <td>581498</td>\n",
       "      <td>85099C</td>\n",
       "      <td>JUMBO  BAG BAROQUE BLACK WHITE</td>\n",
       "      <td>4</td>\n",
       "      <td>2011-12-09 10:26</td>\n",
       "      <td>4.13</td>\n",
       "      <td>NaN</td>\n",
       "      <td>United Kingdom</td>\n",
       "      <td>16.52</td>\n",
       "    </tr>\n",
       "    <tr>\n",
       "      <th>541538</th>\n",
       "      <td>581498</td>\n",
       "      <td>85150</td>\n",
       "      <td>LADIES &amp; GENTLEMEN METAL SIGN</td>\n",
       "      <td>1</td>\n",
       "      <td>2011-12-09 10:26</td>\n",
       "      <td>4.96</td>\n",
       "      <td>NaN</td>\n",
       "      <td>United Kingdom</td>\n",
       "      <td>4.96</td>\n",
       "    </tr>\n",
       "    <tr>\n",
       "      <th>541539</th>\n",
       "      <td>581498</td>\n",
       "      <td>85174</td>\n",
       "      <td>S/4 CACTI CANDLES</td>\n",
       "      <td>1</td>\n",
       "      <td>2011-12-09 10:26</td>\n",
       "      <td>10.79</td>\n",
       "      <td>NaN</td>\n",
       "      <td>United Kingdom</td>\n",
       "      <td>10.79</td>\n",
       "    </tr>\n",
       "    <tr>\n",
       "      <th>541540</th>\n",
       "      <td>581498</td>\n",
       "      <td>DOT</td>\n",
       "      <td>DOTCOM POSTAGE</td>\n",
       "      <td>1</td>\n",
       "      <td>2011-12-09 10:26</td>\n",
       "      <td>1714.17</td>\n",
       "      <td>NaN</td>\n",
       "      <td>United Kingdom</td>\n",
       "      <td>1714.17</td>\n",
       "    </tr>\n",
       "  </tbody>\n",
       "</table>\n",
       "<p>135080 rows × 9 columns</p>\n",
       "</div>"
      ],
      "text/plain": [
       "       InvoiceNo StockCode                      Description  Quantity  \\\n",
       "622       536414     22139                              NaN        56   \n",
       "1443      536544     21773  DECORATIVE ROSE BATHROOM BOTTLE         1   \n",
       "1444      536544     21774  DECORATIVE CATS BATHROOM BOTTLE         2   \n",
       "1445      536544     21786               POLKADOT RAIN HAT          4   \n",
       "1446      536544     21787            RAIN PONCHO RETROSPOT         2   \n",
       "...          ...       ...                              ...       ...   \n",
       "541536    581498    85099B          JUMBO BAG RED RETROSPOT         5   \n",
       "541537    581498    85099C   JUMBO  BAG BAROQUE BLACK WHITE         4   \n",
       "541538    581498     85150    LADIES & GENTLEMEN METAL SIGN         1   \n",
       "541539    581498     85174                S/4 CACTI CANDLES         1   \n",
       "541540    581498       DOT                   DOTCOM POSTAGE         1   \n",
       "\n",
       "             InvoiceDate  UnitPrice  CustomerID         Country  Revenue  \n",
       "622     2010-12-01 11:52       0.00         NaN  United Kingdom     0.00  \n",
       "1443    2010-12-01 14:32       2.51         NaN  United Kingdom     2.51  \n",
       "1444    2010-12-01 14:32       2.51         NaN  United Kingdom     5.02  \n",
       "1445    2010-12-01 14:32       0.85         NaN  United Kingdom     3.40  \n",
       "1446    2010-12-01 14:32       1.66         NaN  United Kingdom     3.32  \n",
       "...                  ...        ...         ...             ...      ...  \n",
       "541536  2011-12-09 10:26       4.13         NaN  United Kingdom    20.65  \n",
       "541537  2011-12-09 10:26       4.13         NaN  United Kingdom    16.52  \n",
       "541538  2011-12-09 10:26       4.96         NaN  United Kingdom     4.96  \n",
       "541539  2011-12-09 10:26      10.79         NaN  United Kingdom    10.79  \n",
       "541540  2011-12-09 10:26    1714.17         NaN  United Kingdom  1714.17  \n",
       "\n",
       "[135080 rows x 9 columns]"
      ]
     },
     "execution_count": 12,
     "metadata": {},
     "output_type": "execute_result"
    }
   ],
   "source": [
    "# Total Blank Customer ID's\n",
    "na_customer_id = df[df['CustomerID'].isna()]\n",
    "na_customer_id"
   ]
  },
  {
   "cell_type": "code",
   "execution_count": 14,
   "id": "49a7de18-9258-423c-af8d-189580aefcee",
   "metadata": {},
   "outputs": [
    {
     "data": {
      "text/plain": [
       "3710"
      ]
     },
     "execution_count": 14,
     "metadata": {},
     "output_type": "execute_result"
    }
   ],
   "source": [
    "# How many unique customers from blank Customer ID's list\n",
    "na_customer_id['InvoiceNo'].nunique()"
   ]
  },
  {
   "cell_type": "code",
   "execution_count": 20,
   "id": "3f00aae6-81ba-49aa-83e2-03cf117adc32",
   "metadata": {},
   "outputs": [
    {
     "name": "stdout",
     "output_type": "stream",
     "text": [
      "0.5206273889547911\n"
     ]
    }
   ],
   "source": [
    "# Check Loyal customer percentage for the UK\n",
    "uk_df = df[df['Country'] == 'United Kingdom'] #filter by country if specified\n",
    "\n",
    "# Count unique loyal customers\n",
    "loyal_customers = uk_df['CustomerID'].nunique()\n",
    "\n",
    "# Count non-loyal customers by InvoiceNo for rows with blank ID's (this assumes that 1 invoice is 1 customer)\n",
    "non_loyal_customers = uk_df[uk_df['CustomerID'].isna()]\n",
    "total_non_loyal_customers = non_loyal_customers['InvoiceNo'].nunique()  # Count unique InvoiceNo for non-loyal customers\n",
    "    \n",
    "total_unique_customers = loyal_customers + total_non_loyal_customers\n",
    "loyal_customers_ratio = loyal_customers / total_unique_customers\n",
    "print(loyal_customers_ratio)"
   ]
  },
  {
   "cell_type": "code",
   "execution_count": 21,
   "id": "bca96254-43aa-4342-9fe6-a64b07941a9d",
   "metadata": {},
   "outputs": [
    {
     "name": "stdout",
     "output_type": "stream",
     "text": [
      "6767873.393999998\n"
     ]
    }
   ],
   "source": [
    "# Check non-loyal customers in the UK (row's with blank ID's) & assuming 1 invoice is 1 customer\n",
    "non_blank_customer_ids = uk_df[uk_df['CustomerID'].notna()]\n",
    "total_sales = non_blank_customer_ids['Revenue'].sum()\n",
    "\n",
    "print(total_sales)"
   ]
  },
  {
   "cell_type": "code",
   "execution_count": 23,
   "id": "ba9c2fb0-b6e3-4da2-9a48-dc0afd210d61",
   "metadata": {},
   "outputs": [
    {
     "data": {
      "text/plain": [
       "8187806.364000001"
      ]
     },
     "execution_count": 23,
     "metadata": {},
     "output_type": "execute_result"
    }
   ],
   "source": [
    "# Net Sales\n",
    "total_sales = uk_df['Revenue'].sum()\n",
    "total_sales"
   ]
  },
  {
   "cell_type": "code",
   "execution_count": 25,
   "id": "c101de6b-793e-4168-903e-25a29d6ba305",
   "metadata": {},
   "outputs": [
    {
     "data": {
      "text/plain": [
       "-837415.72"
      ]
     },
     "execution_count": 25,
     "metadata": {},
     "output_type": "execute_result"
    }
   ],
   "source": [
    "# Total Returns (negative Revenue)\n",
    "\n",
    "returns = uk_df[uk_df['Revenue'] < 0]\n",
    "total_returns = returns['Revenue'].sum()\n",
    "total_returns"
   ]
  },
  {
   "cell_type": "markdown",
   "id": "56fc93c6-d60c-4585-8589-e56a26e6c1f5",
   "metadata": {},
   "source": [
    "## Convert into Functions"
   ]
  },
  {
   "cell_type": "code",
   "execution_count": 23,
   "id": "fdcd0fc1-ae4e-418a-b457-390c308b899a",
   "metadata": {},
   "outputs": [],
   "source": [
    "def loyal_customer_ratio(df, country=None):\n",
    "    if country:\n",
    "        df = df[df['Country'] == country] #filter by country if specified\n",
    "    loyal_customers = df['CustomerID'].nunique()\n",
    "\n",
    "    # Count non-loyal customers by InvoiceNo for rows with blank ID's (this assumes that 1 invoice is 1 customer)\n",
    "    non_loyal_customers = df[df['CustomerID'].isna()]\n",
    "    total_non_loyal_customers = non_loyal_customers['InvoiceNo'].nunique()  # Count unique InvoiceNo for non-loyal customers\n",
    "    \n",
    "    total_unique_customers = loyal_customers + total_non_loyal_customers\n",
    "    if total_unique_customers == 0:\n",
    "        loyal_customers_ratio = 0\n",
    "    else:\n",
    "        loyal_customers_ratio = loyal_customers / total_unique_customers\n",
    "\n",
    "    return f\"{round(loyal_customers_ratio * 100, 2)}%\"\n",
    "\n",
    "def loyal_customer_sales(df, country=None):\n",
    "    if country:\n",
    "        df = df[df['Country'] == country]\n",
    "    non_blank_customer_ids = df[df['CustomerID'].notna()]\n",
    "    total_sales = non_blank_customer_ids['Revenue'].sum()\n",
    "    return f\"${total_sales:,.2f}\"\n",
    "\n",
    "def net_sales(df, country=None):\n",
    "    if country:\n",
    "        df = df[df['Country'] == country]\n",
    "    total_sales = df['Revenue'].sum()\n",
    "    return f\"${total_sales:,.2f}\"\n",
    "\n",
    "def total_returns(df, country=None):\n",
    "    if country:\n",
    "        df = df[df['Country'] == country]\n",
    "    returns = df[df['Revenue'] < 0]\n",
    "    total_returns = returns['Revenue'].sum()\n",
    "    return f\"${total_returns:,.2f}\""
   ]
  },
  {
   "cell_type": "code",
   "execution_count": 24,
   "id": "de0c51a6-3d44-4fcf-8653-115ba5c17c04",
   "metadata": {},
   "outputs": [
    {
     "name": "stdout",
     "output_type": "stream",
     "text": [
      "52.06%\n",
      "$6,767,873.39\n",
      "$8,187,806.36\n",
      "$-837,415.72\n"
     ]
    }
   ],
   "source": [
    "print(loyal_customer_ratio(df, country='United Kingdom'))\n",
    "print(loyal_customer_sales(df, country='United Kingdom'))\n",
    "print(net_sales(df, country='United Kingdom'))\n",
    "print(total_returns(df, country='United Kingdom'))"
   ]
  },
  {
   "cell_type": "code",
   "execution_count": null,
   "id": "d0f2df9c-08c4-4c4a-9ce0-b87e81a54339",
   "metadata": {},
   "outputs": [],
   "source": []
  }
 ],
 "metadata": {
  "kernelspec": {
   "display_name": "Python [conda env:retailense]",
   "language": "python",
   "name": "conda-env-retailense-py"
  },
  "language_info": {
   "codemirror_mode": {
    "name": "ipython",
    "version": 3
   },
   "file_extension": ".py",
   "mimetype": "text/x-python",
   "name": "python",
   "nbconvert_exporter": "python",
   "pygments_lexer": "ipython3",
   "version": "3.9.19"
  }
 },
 "nbformat": 4,
 "nbformat_minor": 5
}
