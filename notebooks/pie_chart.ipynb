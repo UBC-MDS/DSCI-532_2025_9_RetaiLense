{
 "cells": [
  {
   "cell_type": "code",
   "execution_count": 1,
   "id": "52de87d3-3564-412b-ac48-0c4a6f0f586e",
   "metadata": {},
   "outputs": [
    {
     "data": {
      "text/plain": [
       "DataTransformerRegistry.enable('vegafusion')"
      ]
     },
     "execution_count": 1,
     "metadata": {},
     "output_type": "execute_result"
    }
   ],
   "source": [
    "import pandas as pd\n",
    "import altair as alt\n",
    "alt.data_transformers.enable(\"vegafusion\")"
   ]
  },
  {
   "cell_type": "code",
   "execution_count": 2,
   "id": "578874f2-28d6-4330-8174-5b42e6e87b39",
   "metadata": {},
   "outputs": [],
   "source": [
    "#filtered_df = pd.read_csv('../data/processed/processed_data.csv')"
   ]
  },
  {
   "cell_type": "code",
   "execution_count": 3,
   "id": "478f872f-612e-4e50-9596-83a201eea378",
   "metadata": {},
   "outputs": [],
   "source": [
    "#df_no_uk = filtered_df[filtered_df['Country'] != 'United Kingdom']"
   ]
  },
  {
   "cell_type": "code",
   "execution_count": 4,
   "id": "31815327-1240-4a28-b1f4-03456060c66f",
   "metadata": {},
   "outputs": [],
   "source": [
    "#df_no_uk = filtered_df[filtered_df['Country'] != 'United Kingdom']\n",
    "#country_counts = df_no_uk['Country'].value_counts().reset_index()\n",
    "#country_counts.columns = ['Country', 'Count']\n",
    "#country_counts['Percentage'] = round((country_counts['Count'] / country_counts['Count'].sum()) * 100,0)\n",
    "#country_counts = country_counts.head(5)\n",
    "#country_counts.to_csv('../data/filtered/pie_chart_data.csv', index=False)\n",
    "#country_counts = pd.read_csv('../data/filtered/pie_chart_data.csv')\n",
    "#country_counts"
   ]
  },
  {
   "cell_type": "code",
   "execution_count": 5,
   "id": "c70b9570-6186-4452-925d-fcfa865ab18c",
   "metadata": {},
   "outputs": [],
   "source": [
    "#pie_chart = alt.Chart(country_counts).mark_arc().encode(\n",
    "#    theta=alt.Theta(field=\"Percentage\", type=\"quantitative\"),  # Use Percentage for the arc size\n",
    "#    color=alt.Color(field=\"Country\", type=\"nominal\", \n",
    "#                    scale=alt.Scale(scheme='pastel1')),  # Use a categorical color scheme\n",
    "#    tooltip=['Country', 'Percentage']  # Show Percentage in the tooltip\n",
    "#).properties(\n",
    "#    title=\"Top 5 Countries Outside of the UK\"\n",
    "#)\n",
    "#pie_chart"
   ]
  },
  {
   "cell_type": "code",
   "execution_count": 6,
   "id": "a2a317bf-d175-4721-8d98-f2fd5d07f4cd",
   "metadata": {},
   "outputs": [],
   "source": [
    "def plot_top_countries_pie_chart(df):\n",
    "    # Exclude the United Kingdom\n",
    "    df_no_uk = df[df['Country'] != 'United Kingdom']\n",
    "    \n",
    "    # Count the occurrences of each country and reset index\n",
    "    country_counts = df_no_uk['Country'].value_counts().reset_index()\n",
    "    country_counts.columns = ['Country', 'Count']\n",
    "    \n",
    "    # Calculate percentage\n",
    "    country_counts['Percentage'] = round((country_counts['Count'] / country_counts['Count'].sum()) * 100, 0)\n",
    "    \n",
    "    # Get top 5 countries\n",
    "    country_counts = country_counts.head(5)\n",
    "    \n",
    "    # Create the Altair pie chart with percentages\n",
    "    pie_chart = alt.Chart(country_counts).mark_arc().encode(\n",
    "        theta=alt.Theta(field=\"Percentage\", type=\"quantitative\"),  # Use Percentage for the arc size\n",
    "        color=alt.Color(field=\"Country\", type=\"nominal\", \n",
    "                        scale=alt.Scale(scheme='pastel1')),  # Use a categorical color scheme\n",
    "        tooltip=['Country', 'Percentage']  # Show Percentage in the tooltip\n",
    "    ).properties(\n",
    "        title=\"Top 5 Countries Outside of the UK\"\n",
    "    )\n",
    "    \n",
    "    return pie_chart"
   ]
  },
  {
   "cell_type": "code",
   "execution_count": 7,
   "id": "04673377-5b31-42bd-883c-ab181c7cc999",
   "metadata": {},
   "outputs": [
    {
     "data": {
      "text/html": [
       "\n",
       "<style>\n",
       "  #altair-viz-0f1dcdd3d9254294829244eb2a26a8d4.vega-embed {\n",
       "    width: 100%;\n",
       "    display: flex;\n",
       "  }\n",
       "\n",
       "  #altair-viz-0f1dcdd3d9254294829244eb2a26a8d4.vega-embed details,\n",
       "  #altair-viz-0f1dcdd3d9254294829244eb2a26a8d4.vega-embed details summary {\n",
       "    position: relative;\n",
       "  }\n",
       "</style>\n",
       "<div id=\"altair-viz-0f1dcdd3d9254294829244eb2a26a8d4\"></div>\n",
       "<script type=\"text/javascript\">\n",
       "  var VEGA_DEBUG = (typeof VEGA_DEBUG == \"undefined\") ? {} : VEGA_DEBUG;\n",
       "  (function(spec, embedOpt){\n",
       "    let outputDiv = document.currentScript.previousElementSibling;\n",
       "    if (outputDiv.id !== \"altair-viz-0f1dcdd3d9254294829244eb2a26a8d4\") {\n",
       "      outputDiv = document.getElementById(\"altair-viz-0f1dcdd3d9254294829244eb2a26a8d4\");\n",
       "    }\n",
       "\n",
       "    const paths = {\n",
       "      \"vega\": \"https://cdn.jsdelivr.net/npm/vega@5?noext\",\n",
       "      \"vega-lib\": \"https://cdn.jsdelivr.net/npm/vega-lib?noext\",\n",
       "      \"vega-lite\": \"https://cdn.jsdelivr.net/npm/vega-lite@5.20.1?noext\",\n",
       "      \"vega-embed\": \"https://cdn.jsdelivr.net/npm/vega-embed@6?noext\",\n",
       "    };\n",
       "\n",
       "    function maybeLoadScript(lib, version) {\n",
       "      var key = `${lib.replace(\"-\", \"\")}_version`;\n",
       "      return (VEGA_DEBUG[key] == version) ?\n",
       "        Promise.resolve(paths[lib]) :\n",
       "        new Promise(function(resolve, reject) {\n",
       "          var s = document.createElement('script');\n",
       "          document.getElementsByTagName(\"head\")[0].appendChild(s);\n",
       "          s.async = true;\n",
       "          s.onload = () => {\n",
       "            VEGA_DEBUG[key] = version;\n",
       "            return resolve(paths[lib]);\n",
       "          };\n",
       "          s.onerror = () => reject(`Error loading script: ${paths[lib]}`);\n",
       "          s.src = paths[lib];\n",
       "        });\n",
       "    }\n",
       "\n",
       "    function showError(err) {\n",
       "      outputDiv.innerHTML = `<div class=\"error\" style=\"color:red;\">${err}</div>`;\n",
       "      throw err;\n",
       "    }\n",
       "\n",
       "    function displayChart(vegaEmbed) {\n",
       "      vegaEmbed(outputDiv, spec, embedOpt)\n",
       "        .catch(err => showError(`Javascript Error: ${err.message}<br>This usually means there's a typo in your chart specification. See the javascript console for the full traceback.`));\n",
       "    }\n",
       "\n",
       "    if(typeof define === \"function\" && define.amd) {\n",
       "      requirejs.config({paths});\n",
       "      let deps = [\"vega-embed\"];\n",
       "      require(deps, displayChart, err => showError(`Error loading script: ${err.message}`));\n",
       "    } else {\n",
       "      maybeLoadScript(\"vega\", \"5\")\n",
       "        .then(() => maybeLoadScript(\"vega-lite\", \"5.20.1\"))\n",
       "        .then(() => maybeLoadScript(\"vega-embed\", \"6\"))\n",
       "        .catch(showError)\n",
       "        .then(() => displayChart(vegaEmbed));\n",
       "    }\n",
       "  })({\"$schema\": \"https://vega.github.io/schema/vega/v5.json\", \"data\": [{\"name\": \"source_0\", \"values\": [{\"Country\": \"Germany\", \"Percentage\": 20.0, \"Percentage_end\": 38.0, \"Percentage_start\": 18.0}, {\"Country\": \"France\", \"Percentage\": 18.0, \"Percentage_end\": 18.0, \"Percentage_start\": 0.0}, {\"Country\": \"Ireland\", \"Percentage\": 18.0, \"Percentage_end\": 56.0, \"Percentage_start\": 38.0}, {\"Country\": \"Spain\", \"Percentage\": 5.0, \"Percentage_end\": 66.0, \"Percentage_start\": 61.0}, {\"Country\": \"Netherlands\", \"Percentage\": 5.0, \"Percentage_end\": 61.0, \"Percentage_start\": 56.0}]}, {\"name\": \"source_0_color_domain_Country\", \"values\": [{\"Country\": \"Germany\"}, {\"Country\": \"France\"}, {\"Country\": \"Ireland\"}, {\"Country\": \"Spain\"}, {\"Country\": \"Netherlands\"}]}], \"marks\": [{\"type\": \"arc\", \"name\": \"marks\", \"from\": {\"data\": \"source_0\"}, \"encode\": {\"update\": {\"startAngle\": {\"field\": \"Percentage_end\", \"scale\": \"theta\"}, \"tooltip\": {\"signal\": \"{\\\"Country\\\": isValid(datum[\\\"Country\\\"]) ? datum[\\\"Country\\\"] : \\\"\\\"+datum[\\\"Country\\\"], \\\"Percentage\\\": format(datum[\\\"Percentage\\\"], \\\"\\\")}\"}, \"y\": {\"signal\": \"height\", \"mult\": 0.5}, \"outerRadius\": {\"signal\": \"min(width,height)/2\"}, \"fill\": {\"field\": \"Country\", \"scale\": \"color\"}, \"endAngle\": {\"field\": \"Percentage_start\", \"scale\": \"theta\"}, \"innerRadius\": {\"value\": 0}, \"x\": {\"signal\": \"width\", \"mult\": 0.5}}}, \"style\": [\"arc\"]}], \"scales\": [{\"name\": \"theta\", \"type\": \"linear\", \"domain\": {\"data\": \"source_0\", \"fields\": [\"Percentage_start\", \"Percentage_end\"]}, \"range\": [0, 6.283185307179586], \"zero\": true}, {\"name\": \"color\", \"type\": \"ordinal\", \"domain\": {\"data\": \"source_0_color_domain_Country\", \"field\": \"Country\", \"sort\": true}, \"range\": {\"scheme\": \"pastel1\"}}], \"title\": {\"text\": \"Top 5 Countries Outside of the UK\", \"frame\": \"group\"}, \"width\": 300, \"height\": 300, \"padding\": 5, \"legends\": [{\"fill\": \"color\", \"symbolType\": \"circle\", \"title\": \"Country\"}], \"style\": \"view\", \"background\": \"white\"}, {\"mode\": \"vega\"});\n",
       "</script>"
      ],
      "text/plain": [
       "alt.Chart(...)"
      ]
     },
     "execution_count": 7,
     "metadata": {},
     "output_type": "execute_result"
    }
   ],
   "source": [
    "df = pd.read_csv('../data/processed/processed_data.csv')\n",
    "plot_top_countries_pie_chart(df)"
   ]
  },
  {
   "cell_type": "code",
   "execution_count": null,
   "id": "b1de54d2-fe6b-4886-9d74-d816575ab651",
   "metadata": {},
   "outputs": [],
   "source": []
  }
 ],
 "metadata": {
  "kernelspec": {
   "display_name": "Python [conda env:532]",
   "language": "python",
   "name": "conda-env-532-py"
  },
  "language_info": {
   "codemirror_mode": {
    "name": "ipython",
    "version": 3
   },
   "file_extension": ".py",
   "mimetype": "text/x-python",
   "name": "python",
   "nbconvert_exporter": "python",
   "pygments_lexer": "ipython3",
   "version": "3.13.1"
  }
 },
 "nbformat": 4,
 "nbformat_minor": 5
}
